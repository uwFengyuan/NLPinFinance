{
 "cells": [
  {
   "cell_type": "code",
   "execution_count": 1,
   "metadata": {},
   "outputs": [],
   "source": [
    "import json\n",
    "import pickle\n",
    "import gzip"
   ]
  },
  {
   "cell_type": "code",
   "execution_count": 2,
   "metadata": {},
   "outputs": [],
   "source": [
    "import os\n",
    "filenames = os.listdir('/data/liufengyuan/NLPinFinance/Unziped_Filtered_Data')"
   ]
  },
  {
   "cell_type": "code",
   "execution_count": 3,
   "metadata": {},
   "outputs": [
    {
     "name": "stdout",
     "output_type": "stream",
     "text": [
      "Industrial_and_Scientific.pkl\n",
      "AMAZON_FASHION.pkl\n",
      "Grocery_and_Gourmet_Food.pkl\n",
      "Books.pkl\n",
      "CDs_and_Vinyl.pkl\n",
      "Movies_and_TV.pkl\n",
      "Digital_Music.pkl\n",
      "Kindle_Store.pkl\n",
      "12\n"
     ]
    }
   ],
   "source": [
    "remove_file = [\n",
    "'Industrial_and_Scientific.pkl',\n",
    "'AMAZON_FASHION.pkl',\n",
    "'Grocery_and_Gourmet_Food.pkl',\n",
    "'Books.pkl',\n",
    "'CDs_and_Vinyl.pkl',\n",
    "'Movies_and_TV.pkl',\n",
    "'Digital_Music.pkl',\n",
    "'Kindle_Store.pkl']\n",
    "for i in remove_file:\n",
    "    print(i)\n",
    "    filenames.remove(i)\n",
    "print(len(filenames))"
   ]
  },
  {
   "cell_type": "code",
   "execution_count": 4,
   "metadata": {},
   "outputs": [
    {
     "name": "stdout",
     "output_type": "stream",
     "text": [
      "12\n"
     ]
    }
   ],
   "source": [
    "print(len(filenames))"
   ]
  },
  {
   "cell_type": "code",
   "execution_count": 3,
   "metadata": {},
   "outputs": [],
   "source": [
    "global_path = '/data/liufengyuan/NLPinFinance/Unziped_Filtered_Data/'\n",
    "new_combine_path = '/data/liufengyuan/NLPinFinance'\n",
    "total_data = []"
   ]
  },
  {
   "cell_type": "code",
   "execution_count": 6,
   "metadata": {},
   "outputs": [
    {
     "name": "stdout",
     "output_type": "stream",
     "text": [
      "Cell_Phones_and_Accessories.pkl\n",
      "Office_Products.pkl\n",
      "Patio_Lawn_and_Garden.pkl\n",
      "Clothing_Shoes_and_Jewelry.pkl\n",
      "Electronics.pkl\n",
      "Home_and_Kitchen.pkl\n",
      "Sports_and_Outdoors.pkl\n",
      "Arts_Crafts_and_Sewing.pkl\n",
      "Toys_and_Games.pkl\n",
      "Pet_Supplies.pkl\n",
      "Automotive.pkl\n",
      "Tools_and_Home_Improvement.pkl\n"
     ]
    }
   ],
   "source": [
    "for idx,file in enumerate(filenames):\n",
    "    this_file = pickle.load(open(global_path + file,'rb'))\n",
    "    total_data.extend(this_file)\n",
    "    print(file)"
   ]
  },
  {
   "cell_type": "code",
   "execution_count": 5,
   "metadata": {},
   "outputs": [
    {
     "name": "stdout",
     "output_type": "stream",
     "text": [
      "43451\n"
     ]
    }
   ],
   "source": [
    "buyaoid = []\n",
    "remove_file = [\n",
    "'Industrial_and_Scientific.pkl',\n",
    "'AMAZON_FASHION.pkl',\n",
    "'Grocery_and_Gourmet_Food.pkl',\n",
    "'Books.pkl',\n",
    "'CDs_and_Vinyl.pkl',\n",
    "'Movies_and_TV.pkl',\n",
    "'Digital_Music.pkl',\n",
    "'Kindle_Store.pkl']\n",
    "for rem in remove_file: \n",
    "    rem_file = pickle.load(open(global_path + rem,'rb'))\n",
    "    for i in range(len(rem_file)):\n",
    "        buyaoid.append(rem_file[i]['asin'])\n",
    "print(len(buyaoid))"
   ]
  },
  {
   "cell_type": "code",
   "execution_count": 9,
   "metadata": {},
   "outputs": [],
   "source": [
    "resized_image_path = '/data/liufengyuan/NLPinFinance/Resized_Image_Filtered/'"
   ]
  },
  {
   "cell_type": "code",
   "execution_count": 10,
   "metadata": {},
   "outputs": [
    {
     "name": "stdout",
     "output_type": "stream",
     "text": [
      "0\n"
     ]
    }
   ],
   "source": [
    "total_count = 0\n",
    "for buyaodeid in buyaoid:\n",
    "    count = 0\n",
    "    for split in ['train/','val/','test/']:\n",
    "        id_path = resized_image_path + split\n",
    "        if os.path.exists(id_path + buyaodeid + '.jpg'):\n",
    "            os.remove(id_path + buyaodeid + '.jpg')\n",
    "            count += 1\n",
    "            total_count += 1\n",
    "        if count == 2000:\n",
    "            print(count)\n",
    "\n",
    "print(total_count)"
   ]
  },
  {
   "cell_type": "code",
   "execution_count": 7,
   "metadata": {},
   "outputs": [
    {
     "data": {
      "text/plain": [
       "4484099"
      ]
     },
     "execution_count": 7,
     "metadata": {},
     "output_type": "execute_result"
    }
   ],
   "source": [
    "len(total_data)"
   ]
  },
  {
   "cell_type": "code",
   "execution_count": 8,
   "metadata": {},
   "outputs": [],
   "source": [
    "json.dump(total_data,open('/data/liufengyuan/NLPinFinance/new_combined_data.json','w'))"
   ]
  },
  {
   "cell_type": "code",
   "execution_count": 2,
   "metadata": {},
   "outputs": [],
   "source": [
    "import pickle\n",
    "from OurOwnModel.my_build_vocab import Vocabulary\n",
    "vocab = pickle.load(open('/data/liufengyuan/NLPinFinance/my_vocab.pkl','rb'))"
   ]
  },
  {
   "cell_type": "code",
   "execution_count": 4,
   "metadata": {},
   "outputs": [],
   "source": [
    "import json\n",
    "Combine = json.load(open('/data/liufengyuan/NLPinFinance/Combined_Data.json','rb'))"
   ]
  },
  {
   "cell_type": "code",
   "execution_count": 10,
   "metadata": {},
   "outputs": [],
   "source": [
    "from OurOwnModel.tokenizer.title_tokenizer import title_tokenize"
   ]
  },
  {
   "cell_type": "code",
   "execution_count": 15,
   "metadata": {},
   "outputs": [
    {
     "name": "stdout",
     "output_type": "stream",
     "text": [
      "['google', 'nexus', '7', 'ii', 'smartphone', 'aa', 'battery', 'emergency', 'travel', 'charger', 'and', 're', 'charger', 'new', 'lifetime', 'brushed', 'aluminum', 'housing']\n",
      "[18021, 27239, 3634, 20311, 35057, 4419, 7106, 14765, 38736, 10250, 3, 3, 10250, 27201, 23484, 3, 5319, 3]\n",
      "--------------------------------------------\n",
      "['motorola', 'droid', 'maxx', 'smartphone', 'aa', 'battery', 'emergency', 'travel', 'charger', 'and', 're', 'charger', 'new', 'lifetime', 'brushed', 'aluminum', 'housing']\n",
      "[26377, 13891, 25064, 35057, 4419, 7106, 14765, 38736, 10250, 3, 3, 10250, 27201, 23484, 3, 5319, 3]\n",
      "--------------------------------------------\n",
      "['amazon', 'kindle', 'fire', 'hd', '8', '9', 'smartphone', 'aa', 'battery', 'emergency', 'travel', 'charger', 'and', 're', 'charger', 'new', 'lifetime', 'brushed', 'aluminum', 'housing']\n",
      "[5359, 22252, 16135, 19103, 3883, 4143, 35057, 4419, 7106, 14765, 38736, 10250, 3, 3, 10250, 27201, 23484, 3, 5319, 3]\n",
      "--------------------------------------------\n",
      "['professional', 'htc', 'one', 'glacial', 'silver', 'smartphone', 'blue', 'led', 'car', 'charger', 'with', 'digitally', 'auto', 'controlled', 'rapid', 'and', 'slow', 'charge', 'black']\n",
      "[30631, 19935, 28102, 17764, 34556, 35057, 8064, 3, 9628, 10250, 3, 3, 6425, 3, 31470, 3, 34997, 10249, 7847]\n",
      "--------------------------------------------\n",
      "['professional', 'sony', 'xperia', 'sp', 'smartphone', 'blue', 'led', 'car', 'charger', 'with', 'digitally', 'auto', 'controlled', 'rapid', 'and', 'slow', 'charge', 'white']\n",
      "[30631, 35439, 41961, 35533, 35057, 8064, 3, 9628, 10250, 3, 3, 6425, 3, 31470, 3, 34997, 10249, 41174]\n",
      "--------------------------------------------\n",
      "['professional', 'samsung', 'galaxy', 's4', 'developer', 'edtion', 'smartphone', 'blue', 'led', 'car', 'charger', 'with', 'digitally', 'auto', 'controlled', 'rapid', 'and', 'slow', 'charge', 'white']\n",
      "[30631, 33187, 17241, 32999, 13117, 3, 35057, 8064, 3, 9628, 10250, 3, 3, 6425, 3, 31470, 3, 34997, 10249, 41174]\n",
      "--------------------------------------------\n",
      "['professional', 'pantech', 'perception', 'smartphone', 'blue', 'led', 'car', 'charger', 'with', 'digitally', 'auto', 'controlled', 'rapid', 'and', 'slow', 'charge', 'white']\n",
      "[30631, 28805, 29294, 35057, 8064, 3, 9628, 10250, 3, 3, 6425, 3, 31470, 3, 34997, 10249, 41174]\n",
      "--------------------------------------------\n",
      "['professional', 'retractable', 'car', 'charger', 'for', 'samsung', 'galaxy', 'prevail', 'boost', 'mobile', 'smartphone', 'with', 'one', 'touch', 'button', 'system', 'lifetime', 'warranty']\n",
      "[30631, 32059, 9628, 10250, 3, 33187, 17241, 30512, 8347, 25999, 35057, 3, 28102, 38540, 9187, 37121, 23484, 40769]\n",
      "--------------------------------------------\n",
      "['premium', 'usb', 'adapter', 'power', 'kit', 'for', 'garmin', 'nuvi', '2597lmt', 'gps', 'includes', '1', 'charging', 'usb', '2', '0', 'data', 'cable', '1', 'usb', 'car', 'charger', 'adapter', '1', 'usb', 'folding', 'blade', 'wall', 'charger', '550ma-1a']\n",
      "[30452, 39719, 4644, 30312, 22327, 3, 17338, 27766, 3, 18097, 3, 152, 3, 39719, 1332, 5, 12627, 9285, 152, 39719, 9628, 10250, 4644, 152, 39719, 3, 7939, 40680, 10250, 3]\n",
      "--------------------------------------------\n",
      "['professional', 'retractable', 'asus', 'memo', 'pad', 'smartphone', 'car', 'charger', 'with', 'one', 'touch', 'rapid', 'button', 'system', 'black']\n",
      "[30631, 32059, 6251, 25320, 28655, 35057, 9628, 10250, 3, 28102, 38540, 31470, 9187, 37121, 7847]\n",
      "--------------------------------------------\n",
      "['premium', 'usb', 'adapter', 'power', 'kit', 'for', 'garmin', 'nuvi', '40', 'gps', 'includes', '1', 'charging', 'usb', '2', '0', 'data', 'cable', '1', 'usb', 'car', 'charger', 'adapter', '1', 'usb', 'folding', 'blade', 'wall', 'charger', '550ma-1a']\n",
      "[30452, 39719, 4644, 30312, 22327, 3, 17338, 27766, 2605, 18097, 3, 152, 3, 39719, 1332, 5, 12627, 9285, 152, 39719, 9628, 10250, 4644, 152, 39719, 3, 7939, 40680, 10250, 3]\n",
      "--------------------------------------------\n",
      "['premium', 'screen', 'protector', '3', 'pack', 'for', 'huawei', 'vision', 'protect', 'your', 'precious', 'screen', 'with', 'a', 'durable', 'micro', 'thin', 'touch', 'swipe', 'enabled', 'universal', 'clear', 'guard', 'universal', 'must', 'be', 'cut', 'to', 'size', '90', 'day', 'warranty']\n",
      "[30452, 33614, 30751, 2086, 28638, 3, 19943, 40341, 30745, 3, 30410, 33614, 3, 3, 14073, 25540, 37946, 38540, 37032, 3, 39599, 10802, 18491, 39599, 26726, 7204, 12256, 3, 34714, 4144, 12660, 40769]\n",
      "--------------------------------------------\n",
      "['premium', 'usb', 'adapter', 'power', 'kit', 'for', 'garmin', 'nuvi', '2757lm', 'gps', 'includes', '1', 'charging', 'usb', '2', '0', 'data', 'cable', '1', 'usb', 'car', 'charger', 'adapter', '1', 'usb', 'folding', 'blade', 'wall', 'charger', '550ma-1a']\n",
      "[30452, 39719, 4644, 30312, 22327, 3, 17338, 27766, 3, 18097, 3, 152, 3, 39719, 1332, 5, 12627, 9285, 152, 39719, 9628, 10250, 4644, 152, 39719, 3, 7939, 40680, 10250, 3]\n",
      "--------------------------------------------\n",
      "['professional', 'retractable', 'blu', 'touch', 'smartphone', 'car', 'charger', 'with', 'one', 'touch', 'rapid', 'button', 'system', 'black']\n",
      "[30631, 32059, 8061, 38540, 35057, 9628, 10250, 3, 28102, 38540, 31470, 9187, 37121, 7847]\n",
      "--------------------------------------------\n",
      "['professional', 'htc', 'evo', '4g', 'lte', 'smartphone', 'blue', 'led', 'car', 'charger', 'with', 'digitally', 'auto', 'controlled', 'rapid', 'and', 'slow', 'charge', 'white']\n",
      "[30631, 19935, 15293, 2894, 24048, 35057, 8064, 3, 9628, 10250, 3, 3, 6425, 3, 31470, 3, 34997, 10249, 41174]\n",
      "--------------------------------------------\n",
      "['professional', 'casio', 'gzone', 'ravine', '2', 'c781', 'smartphone', 'blue', 'led', 'car', 'charger', 'with', 'digitally', 'auto', 'controlled', 'rapid', 'and', 'slow', 'charge', 'white']\n",
      "[30631, 9841, 18627, 31540, 1332, 3, 35057, 8064, 3, 9628, 10250, 3, 3, 6425, 3, 31470, 3, 34997, 10249, 41174]\n",
      "--------------------------------------------\n",
      "['premium', 'usb', 'adapter', 'power', 'kit', 'for', 'jawbone', 'era', 'bluetooth', 'headset', 'includes', '1', 'charging', 'usb', '2', '0', 'data', 'cable', '1', 'usb', 'car', 'charger', 'adapter', '1', 'usb', 'folding', 'blade', 'wall', 'charger', '550ma-1a']\n",
      "[30452, 39719, 4644, 30312, 22327, 3, 21185, 15021, 8099, 19151, 3, 152, 3, 39719, 1332, 5, 12627, 9285, 152, 39719, 9628, 10250, 4644, 152, 39719, 3, 7939, 40680, 10250, 3]\n",
      "--------------------------------------------\n",
      "['slim', 'line', 'micromax', 'x226', 'plus', 'smartphone', 'portable', 'vehicle', 'power', 'adapter', 'charger', 'is', 'convenient', 'durable', 'and', 'made', 'to', 'last']\n",
      "[34941, 23585, 3, 3, 29972, 35057, 30211, 40015, 30312, 4644, 10250, 3, 11432, 14073, 3, 3, 3, 23044]\n",
      "--------------------------------------------\n",
      "['professional', 'lg', 'cookie', '3g', 'smartphone', 'blue', 'led', 'car', 'charger', 'with', 'digitally', 'auto', 'controlled', 'rapid', 'and', 'slow', 'charge', 'white']\n",
      "[30631, 23415, 11457, 2501, 35057, 8064, 3, 9628, 10250, 3, 3, 6425, 3, 31470, 3, 34997, 10249, 41174]\n",
      "--------------------------------------------\n",
      "['professional', 'samsung', 'galaxy', 's3', 'pro', 'smartphone', 'blue', 'led', 'car', 'charger', 'with', 'digitally', 'auto', 'controlled', 'rapid', 'and', 'slow', 'charge', 'black']\n",
      "[30631, 33187, 17241, 32993, 30594, 35057, 8064, 3, 9628, 10250, 3, 3, 6425, 3, 31470, 3, 34997, 10249, 7847]\n",
      "--------------------------------------------\n",
      "['sole', 'trader', 'new', 'iphone', '4', '4s', 'protective', 'hard', 'case', 'bow', 'knot', 'rabbit', 'skin', 'cover', 'in', 'white', 'and', 'red']\n",
      "[35362, 38642, 27201, 20830, 2604, 2942, 30749, 18917, 9824, 8480, 22456, 31272, 34784, 11726, 3, 41174, 3, 31710]\n",
      "--------------------------------------------\n",
      "['dklmobile18', '5pcs', 'high', 'quality', 'decorated', 'real', 'aluminum', 'home', 'button', 'stickers', 'for', 'iphone', 'ipad', 'ipod', 'itouch', 'apple']\n",
      "[3, 3314, 19435, 31129, 3, 31619, 5319, 19701, 9187, 36270, 3, 20830, 20821, 20838, 20960, 5780]\n",
      "--------------------------------------------\n",
      "['powerbear', 'reg', 'samsung', 'galaxy', 's5', 'external', 'battery', 'case', 'blue', 'up', 'to', '125', '%', 'more', 'power']\n",
      "[3, 31810, 33187, 17241, 33003, 15435, 7106, 9824, 8064, 39641, 3, 550, 3, 3, 30312]\n",
      "--------------------------------------------\n",
      "['3-pack', 'galaxy', 's8', 'screen', 'protector', 'fitquipment', '3d', 'coverage', 'hd', 'clear', 'anti', 'scratch', 'ultra', 'clear', 'screen', 'protector', 'compatible', 'with', 'samsung', 'galaxy', 's8', 'clear']\n",
      "[3, 17241, 33012, 33614, 30751, 3, 2479, 11727, 19103, 10802, 5672, 33607, 39416, 10802, 33614, 30751, 11249, 3, 33187, 17241, 33012, 10802]\n",
      "--------------------------------------------\n",
      "['blu', 'studio', '6', '0', 'lte', 'otg', 'micro', 'usb', 'to', 'usb', '2', '0', 'right', 'angle', 'adapter', 'for', 'high', 'speed', 'data', 'transfer', 'cable', 'for', 'connecting', 'any', 'compatible', 'usb', 'accessory', 'device', 'drive', 'flash', 'and', 'truly', 'on', 'the', 'go', 'black']\n",
      "[8061, 36524, 3354, 5, 24048, 28401, 25540, 39719, 3, 39719, 1332, 5, 32256, 5574, 4644, 3, 19435, 35643, 12627, 38699, 9285, 3, 3, 3, 11249, 39719, 4531, 13120, 13882, 16289, 3, 39014, 3, 3, 17886, 7847]\n",
      "--------------------------------------------\n",
      "['slimport', 'adapter', 'for', 'blackberry', 'passport', 'smartphone', 'mydp', 'micro', 'usb', 'to', 'hdmi', 'adapter', 'connects', 'any', 'mydp', 'enabled', 'mobile', 'device', 'and', 'play', 'content', 'to', 'any', 'hdtv', 'or', 'hdmi', 'enabled', 'device', 'bulk', 'packaging']\n",
      "[3, 4644, 3, 7858, 28963, 35057, 3, 25540, 39719, 3, 19112, 4644, 3, 3, 3, 3, 25999, 13120, 3, 29874, 11406, 3, 3, 19119, 3, 19112, 3, 13120, 9038, 3]\n",
      "--------------------------------------------\n",
      "['premium', 'usb', 'adapter', 'power', 'kit', 'for', 'blu', 'studio', '5', '0', 'c', 'hd', 'smartphone', 'micro', 'usb', 'includes', '1', 'charging', 'usb', '2', '0', 'data', 'cable', '1', 'usb', 'car', 'charger', 'adapter', '1', 'usb', 'folding', 'blade', 'wall', 'charger', '550ma-1a']\n",
      "[30452, 39719, 4644, 30312, 22327, 3, 8061, 36524, 2977, 5, 9233, 19103, 35057, 25540, 39719, 3, 152, 3, 39719, 1332, 5, 12627, 9285, 152, 39719, 9628, 10250, 4644, 152, 39719, 3, 7939, 40680, 10250, 3]\n",
      "--------------------------------------------\n",
      "['genuine', '1a', 'blu', 'studio', '6', '0', 'lte', 'smartphone', 'quick', 'charger', 'with', 'detachable', 'high', 'power', 'micro', 'usb', '2', '0', 'data', 'sync', 'cable', '110v-240v']\n",
      "[17534, 1260, 8061, 36524, 3354, 5, 24048, 35057, 31171, 10250, 3, 13084, 19435, 30312, 25540, 39719, 1332, 5, 12627, 37094, 9285, 3]\n",
      "--------------------------------------------\n",
      "['sonim', 'xp6', 'smartphone', '9w', 'powerfast', 'folding', 'blade', 'wall', 'charger', 'gives', 'you', 'accelerated', 'charging', '1', '8a', '1', '800mah', 'black']\n",
      "[35425, 3, 35057, 4371, 3, 3, 7939, 40680, 10250, 3, 3, 3, 3, 152, 4066, 152, 3, 7847]\n",
      "--------------------------------------------\n",
      "['samsung', 'galaxy', 'note', '4', 'adaptive', 'fast', 'charger', 'micro', 'usb', '2', '0', 'cable', 'kit', 'true', 'digital', 'adaptive', 'fast', 'charging', 'uses', 'dual', 'voltages', 'for', 'up', 'to', '50', '%', 'faster', 'charging']\n",
      "[33187, 17241, 27615, 2604, 4648, 15753, 10250, 25540, 39719, 1332, 5, 9285, 22327, 38999, 13266, 4648, 15753, 3, 3, 13970, 3, 3, 39641, 3, 2978, 3, 15761, 3]\n",
      "--------------------------------------------\n",
      "['solar', 'powered', 'motorola', 'moto', 'e', 'eco', 'window', 'charger', 'in', 'a', 'smooth', 'round', 'form']\n",
      "[35348, 3, 26377, 26361, 14211, 14384, 41361, 10250, 3, 3, 35107, 32715, 16669]\n",
      "--------------------------------------------\n",
      "['premium', 'usb', 'adapter', 'power', 'kit', 'for', 'blu', 'studio', '5', '0', 'hd', 'lte', 'smartphone', 'micro', 'usb', 'includes', '1', 'charging', 'usb', '2', '0', 'data', 'cable', '1', 'usb', 'car', 'charger', 'adapter', '1', 'usb', 'folding', 'blade', 'wall', 'charger', '550ma-1a']\n",
      "[30452, 39719, 4644, 30312, 22327, 3, 8061, 36524, 2977, 5, 19103, 24048, 35057, 25540, 39719, 3, 152, 3, 39719, 1332, 5, 12627, 9285, 152, 39719, 9628, 10250, 4644, 152, 39719, 3, 7939, 40680, 10250, 3]\n",
      "--------------------------------------------\n",
      "['rapid', 'charging', 'micro', 'usb', '2', '0', 'cable', 'for', 'htc', 'one', 'm9', 'plus', 'smartphone', 'will', 'charge', 'up', 'as', 'fast', 'as', 'you', 'need', 'it', 'faster', 'than', 'conventional', 'cables', '3ft']\n",
      "[31470, 3, 25540, 39719, 1332, 5, 9285, 3, 19935, 28102, 24319, 29972, 35057, 41311, 10249, 39641, 3, 15753, 3, 3, 27085, 3, 15761, 3, 11434, 3, 2500]\n",
      "--------------------------------------------\n",
      "['blu', 'studio', 'x', 'plus', 'smartphone', 'otg', 'usb', 'female', 'to', 'micro', 'usb', '2', '0', 'male', 'on', 'the', 'go', 'connection', 'kit', 'and', 'cable', 'adapter', 'black']\n",
      "[8061, 36524, 41796, 29972, 35057, 28401, 39719, 15899, 3, 25540, 39719, 1332, 5, 24584, 3, 3, 17886, 11358, 22327, 3, 9285, 4644, 7847]\n",
      "--------------------------------------------\n",
      "['original', 'amazon', 'kindle', 'fire', 'hdx', '7', 'premium', 'quick', 'micro', 'usb', 'folding', 'blade', '6ft', '2m', 'travel', 'wall', 'charger']\n",
      "[28310, 5359, 22252, 16135, 19122, 3634, 30452, 31171, 25540, 39719, 3, 7939, 3572, 2006, 38736, 40680, 10250]\n",
      "--------------------------------------------\n",
      "['dr', 'dre', 'beats', 'studio', 'headphones', '9w', 'powerfast', 'folding', 'blade', 'wall', 'charger', 'gives', 'you', 'accelerated', 'charging', '1', '8a', '1', '800mah', 'black']\n",
      "[13766, 13811, 3, 36524, 19145, 4371, 3, 3, 7939, 40680, 10250, 3, 3, 3, 3, 152, 4066, 152, 3, 7847]\n",
      "--------------------------------------------\n",
      "['professional', 'samsung', 'galaxy', 's6', 'edge', '+', 'otg', 'usb', 'female', 'to', 'micro', 'usb', '2', '0', 'male', 'otg', 'on', 'the', 'go', 'cable', 'white', '480mb', 'newer', 'style']\n",
      "[30631, 33187, 17241, 33006, 14436, 3, 28401, 39719, 15899, 3, 25540, 39719, 1332, 5, 24584, 28401, 3, 3, 17886, 9285, 41174, 3, 27208, 36551]\n",
      "--------------------------------------------\n",
      "['dell', 'venue', '8', '7840', 'otg', 'micro', 'usb', 'to', 'usb', '2', '0', 'right', 'angle', 'adapter', 'for', 'high', 'speed', 'data', 'transfer', 'cable', 'for', 'connecting', 'any', 'compatible', 'usb', 'accessory', 'device', 'drive', 'flash', 'and', 'truly', 'on', 'the', 'go', 'black']\n",
      "[12936, 40077, 3883, 3, 28401, 25540, 39719, 3, 39719, 1332, 5, 32256, 5574, 4644, 3, 19435, 35643, 12627, 38699, 9285, 3, 3, 3, 11249, 39719, 4531, 13120, 13882, 16289, 3, 39014, 3, 3, 17886, 7847]\n",
      "--------------------------------------------\n",
      "['charger', 'for', 'note', '4', 'verizon', 'adaptive', 'fast', 'charger', 'micro', 'usb', '2', '0', 'cable', 'kit', 'true', 'digital', 'adaptive', 'fast', 'charging', 'uses', 'dual', 'voltages', 'for', 'up', 'to', '50', '%', 'faster', 'charging']\n",
      "[10250, 3, 27615, 2604, 40106, 4648, 15753, 10250, 25540, 39719, 1332, 5, 9285, 22327, 38999, 13266, 4648, 15753, 3, 3, 13970, 3, 3, 39641, 3, 2978, 3, 15761, 3]\n",
      "--------------------------------------------\n",
      "['quick', 'charge', '2', '0', 'nokia', 'lumia', '929', 'dual', 'usb', 'turbo', '18w', 'official', 'car', 'charger', 'with', 'micro', 'usb', 'cable', 'kit', 'qualcomm', 'certifed']\n",
      "[31171, 10249, 1332, 5, 27483, 24138, 3, 13970, 39719, 39155, 1114, 27941, 9628, 10250, 3, 25540, 39719, 9285, 22327, 3, 3]\n",
      "--------------------------------------------\n",
      "['slimport', 'mydp', 'hdmi', 'adapter', 'for', 'lg', 'g4', 'smartphone', 'now', 'you', 'can', 'stream', 'to', 'any', 'hdmi', 'enabled', 'hdtv', 'or', 'device', 'instantly', 'using', 'the', 'newest', 'adapter', 'available', 'white']\n",
      "[3, 3, 19112, 4644, 3, 23415, 17183, 35057, 3, 3, 9498, 36436, 3, 3, 19112, 3, 19119, 3, 13120, 3, 3, 3, 27209, 4644, 6461, 41174]\n",
      "--------------------------------------------\n",
      "['rapid', 'car', 'charger', 'for', 'samsung', 'galazx', 'note', 'pro', '12', '2', 'tablet', 'kit', 'with', 'micro', 'usb', 'cable', '10w', '2a']\n",
      "[31470, 9628, 10250, 3, 33187, 3, 27615, 30594, 497, 1332, 37185, 22327, 3, 25540, 39719, 9285, 370, 1946]\n",
      "--------------------------------------------\n",
      "['kyocera', 'duraxv', 'feature', 'phone', '9w', 'powerfast', 'micro', 'usb', 'in-vehicle', 'car', 'charger', 'with', 'extra', 'usb', 'port', 'and', 'accelerated', 'charging', '1', '8a', '7ft', '2', '1m', 'cord']\n",
      "[22769, 3, 15842, 29521, 4371, 3, 25540, 39719, 3, 9628, 10250, 3, 15439, 39719, 30209, 3, 3, 3, 152, 4066, 3842, 1332, 1292, 11533]\n",
      "--------------------------------------------\n",
      "['lg', 'tribute', 'powered', 'otg', 'micro', 'usb', 'to', 'usb', '2', '0', 'adapter', 'high', 'speed', 'data', 'transfer', 'cable', 'for', 'connecting', 'any', 'compatible', 'usb', 'accessory', 'device', 'drive', 'flash', 'and', 'truly', 'on', 'the', 'go', 'with', 'power', 'port']\n",
      "[23415, 38836, 3, 28401, 25540, 39719, 3, 39719, 1332, 5, 4644, 19435, 35643, 12627, 38699, 9285, 3, 3, 3, 11249, 39719, 4531, 13120, 13882, 16289, 3, 39014, 3, 3, 17886, 3, 30312, 30209]\n",
      "--------------------------------------------\n",
      "['charger', 'kit', 'for', 'samsung', 'galaxy', 'avant', 'smatphone', \"that's\", 'portable', 'and', 'powers', 'up', 'quick', 'black', '12w', '800ma-1a']\n",
      "[10250, 22327, 3, 33187, 17241, 6469, 3, 3, 30211, 3, 3, 39641, 31171, 7847, 631, 3]\n",
      "--------------------------------------------\n",
      "['full', 'power', 'blu', 'win', 'hd', 'smartphone', 'charging', 'micro', 'usb', '2', '0', 'data', \"cable's\", 'dual', 'chipset', 'charges', 'up', 'to', '5a', '5', '000mah', 'power', 'speeds', 'easily', 'black']\n",
      "[17030, 30312, 8061, 41337, 19103, 35057, 3, 25540, 39719, 1332, 5, 12627, 3, 13970, 10482, 3, 39641, 3, 3264, 2977, 3, 30312, 3, 14314, 7847]\n",
      "--------------------------------------------\n",
      "['rapid', 'charger', 'kit', 'for', 'samsung', 'galaxy', 'tab', '4', '10', '1', 'tablet', 'with', 'micro', 'usb', '2', '0', 'cable', 'will', 'power', 'up', 'in', 'a', 'blink', 'and', 'up', 'to', '40', '%', 'faster', 'black', '12w', '1', '5a']\n",
      "[31470, 10250, 22327, 3, 33187, 17241, 37172, 2604, 153, 152, 37185, 3, 25540, 39719, 1332, 5, 9285, 41311, 30312, 39641, 3, 3, 8002, 3, 39641, 3, 2605, 3, 15761, 7847, 631, 152, 3264]\n",
      "--------------------------------------------\n",
      "['rapid', 'charger', 'kit', 'for', 'alcatel', 'onetouch', 'pop', '7', 'tablet', 'with', 'micro', 'usb', '2', '0', 'cable', 'will', 'power', 'up', 'in', 'a', 'blink', 'and', 'up', 'to', '40', '%', 'faster', 'black', '12w', '1', '5a']\n",
      "[31470, 10250, 22327, 3, 5088, 28127, 30170, 3634, 37185, 3, 25540, 39719, 1332, 5, 9285, 41311, 30312, 39641, 3, 3, 8002, 3, 39641, 3, 2605, 3, 15761, 7847, 631, 152, 3264]\n",
      "--------------------------------------------\n",
      "['rapid', 'charger', 'kit', 'for', 'htc', 'one', 'x', '+', 'smartphone', 'with', 'micro', 'usb', '2', '0', 'cable', 'will', 'power', 'up', 'in', 'a', 'blink', 'and', 'up', 'to', '40', '%', 'faster', 'black', '12w', '1', '5a']\n",
      "[31470, 10250, 22327, 3, 19935, 28102, 41796, 3, 35057, 3, 25540, 39719, 1332, 5, 9285, 41311, 30312, 39641, 3, 3, 8002, 3, 39641, 3, 2605, 3, 15761, 7847, 631, 152, 3264]\n",
      "--------------------------------------------\n"
     ]
    }
   ],
   "source": [
    "for idx,data in enumerate(Combine):\n",
    "    if idx > 50 and idx <100:\n",
    "        result = []\n",
    "        title1 = data['title']\n",
    "        toked_title = title_tokenize(title1)\n",
    "        print(toked_title)\n",
    "        # print('--------------------------------------------')\n",
    "        for word in toked_title:\n",
    "            result.append(vocab(word))\n",
    "        print(result)\n",
    "        print('--------------------------------------------')\n",
    "    if idx ==  100:\n",
    "        break"
   ]
  },
  {
   "cell_type": "code",
   "execution_count": null,
   "metadata": {},
   "outputs": [],
   "source": []
  }
 ],
 "metadata": {
  "kernelspec": {
   "display_name": "base",
   "language": "python",
   "name": "python3"
  },
  "language_info": {
   "codemirror_mode": {
    "name": "ipython",
    "version": 3
   },
   "file_extension": ".py",
   "mimetype": "text/x-python",
   "name": "python",
   "nbconvert_exporter": "python",
   "pygments_lexer": "ipython3",
   "version": "3.9.12 (main, Apr  5 2022, 06:56:58) \n[GCC 7.5.0]"
  },
  "orig_nbformat": 4,
  "vscode": {
   "interpreter": {
    "hash": "0c4e795b307436e90878d87b7b6ea0f9ae1f8d88c9c1ffc8ae37ae0851c943d6"
   }
  }
 },
 "nbformat": 4,
 "nbformat_minor": 2
}
