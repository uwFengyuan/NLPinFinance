{
 "cells": [
  {
   "cell_type": "code",
   "execution_count": 6,
   "metadata": {},
   "outputs": [],
   "source": [
    "import os\n",
    "import re\n",
    "import pickle\n",
    "import json\n",
    "import gzip\n",
    "import multiprocessing as mp"
   ]
  },
  {
   "cell_type": "code",
   "execution_count": 1,
   "metadata": {},
   "outputs": [],
   "source": [
    "import torch"
   ]
  },
  {
   "cell_type": "code",
   "execution_count": 2,
   "metadata": {},
   "outputs": [
    {
     "data": {
      "text/plain": [
       "False"
      ]
     },
     "execution_count": 2,
     "metadata": {},
     "output_type": "execute_result"
    }
   ],
   "source": [
    "torch.cuda.is_available()"
   ]
  },
  {
   "cell_type": "code",
   "execution_count": 12,
   "metadata": {},
   "outputs": [
    {
     "data": {
      "text/plain": [
       "'2.2.1'"
      ]
     },
     "execution_count": 12,
     "metadata": {},
     "output_type": "execute_result"
    }
   ],
   "source": [
    "re.__version__"
   ]
  },
  {
   "cell_type": "code",
   "execution_count": 25,
   "metadata": {},
   "outputs": [],
   "source": [
    "# 定义tokenize方法：\n",
    "def tokenize(text):\n",
    "    # 定义分割符，该变量作为超参数，可以根据情况删减\n",
    "    filters = ['#', '$', '%', '&', '\\t', '\\n', '\\x97', '\\x96', ',', '\\(', '\\)','\\.']\n",
    "\n",
    "    # 运用正则进行分词:\n",
    "    # 将网页内容如<>以及分隔符全部替代为空格\n",
    "    text = re.sub(\"<.*?>\", \" \", text, flags=re.S)\n",
    "    #print('1' + text)\n",
    "    # 将n't转换为not\n",
    "    text = re.sub(\"n't\", \" not\", text, flags=re.S)\n",
    "    #print('2' + text)\n",
    "    # 将感叹号单独分割出来\n",
    "    text = re.sub(\"(\\w)!\", \"\\g<1> !\", text, flags=re.S)\n",
    "    #print('3' + text)\n",
    "    # 去掉一些特殊情况\n",
    "    text = re.sub(\"\\[download PDF version\\]\", \" \", text, flags=re.S)\n",
    "    print('4' + text)\n",
    "    text = re.sub(\"(View shipping rates and policies)\", \" \", text, flags=re.S)\n",
    "    #print('5' + text)\n",
    "    # 将分隔符全部替代为空格\n",
    "    text = re.sub(\"|\".join(filters), \" \", text, flags=re.S)\n",
    "    #print('6' + text)\n",
    "    # 运用strip()返回移除字符串头尾指定的字符（默认为空格或换行符）生成的新字符串:并转换为小写：\n",
    "    result = [i.strip().lower() for i in text.split()]\n",
    "    return result"
   ]
  },
  {
   "cell_type": "code",
   "execution_count": 4,
   "metadata": {},
   "outputs": [
    {
     "data": {
      "text/plain": [
       "['Cell_Phones_and_Accessories.pkl',\n",
       " 'Office_Products.pkl',\n",
       " 'Movies_and_TV.pkl',\n",
       " 'Patio_Lawn_and_Garden.pkl',\n",
       " 'Clothing_Shoes_and_Jewelry.pkl',\n",
       " 'Electronics.pkl',\n",
       " 'Industrial_and_Scientific.pkl',\n",
       " 'Kindle_Store.pkl',\n",
       " 'Digital_Music.pkl',\n",
       " 'Home_and_Kitchen.pkl',\n",
       " 'Sports_and_Outdoors.pkl',\n",
       " 'CDs_and_Vinyl.pkl',\n",
       " 'Books.pkl',\n",
       " 'Arts_Crafts_and_Sewing.pkl',\n",
       " 'Toys_and_Games.pkl',\n",
       " 'Grocery_and_Gourmet_Food.pkl',\n",
       " 'AMAZON_FASHION.pkl',\n",
       " 'Pet_Supplies.pkl',\n",
       " 'Automotive.pkl',\n",
       " 'Tools_and_Home_Improvement.pkl']"
      ]
     },
     "execution_count": 4,
     "metadata": {},
     "output_type": "execute_result"
    }
   ],
   "source": [
    "filenames"
   ]
  },
  {
   "cell_type": "code",
   "execution_count": 26,
   "metadata": {},
   "outputs": [
    {
     "name": "stdout",
     "output_type": "stream",
     "text": [
      "Time to take control...  Okay, just how cool is a watch with a built-in universal remote control? Well...pretty darn cool we think. Imagine the possibilities - you'll never lose your remote again; you can go to your neighborhood sports bar and take control of those big screen TVs; when visiting a friends house you can watch what you want to watch. Put the power that comes with having the remote right on your wrist!  The Midas features comtemporary styling and a sleek design. The watch is not large or clunky. The remote control buttons are very well integrated into the overall watch design and are very easy to push. The remote can be programmed, using a 4 or 5 digits code, in approximately 30 seconds. The pre-programmed database of codes covers every make/model of TV and cable receiver imaginable.  Some other features of this watch:  Very large database of pre-programmed infrared codes Sleek design Set-up takes about 30 seconds Controls for Volume (+/-), Channel (+/-), Mute, and Power Range of 15 ft and 20 degree angle Seiko watch movement Stainless steel casing and grey polyurethane band Batteries are included One-year warranty  Comes with user manual [download PDF version] that includes codes.\n",
      "4Time to take control...  Okay, just how cool is a watch with a built-in universal remote control? Well...pretty darn cool we think. Imagine the possibilities - you'll never lose your remote again; you can go to your neighborhood sports bar and take control of those big screen TVs; when visiting a friends house you can watch what you want to watch. Put the power that comes with having the remote right on your wrist !  The Midas features comtemporary styling and a sleek design. The watch is not large or clunky. The remote control buttons are very well integrated into the overall watch design and are very easy to push. The remote can be programmed, using a 4 or 5 digits code, in approximately 30 seconds. The pre-programmed database of codes covers every make/model of TV and cable receiver imaginable.  Some other features of this watch:  Very large database of pre-programmed infrared codes Sleek design Set-up takes about 30 seconds Controls for Volume (+/-), Channel (+/-), Mute, and Power Range of 15 ft and 20 degree angle Seiko watch movement Stainless steel casing and grey polyurethane band Batteries are included One-year warranty  Comes with user manual   that includes codes.\n",
      "['time', 'to', 'take', 'control', 'okay', 'just', 'how', 'cool', 'is', 'a', 'watch', 'with', 'a', 'built-in', 'universal', 'remote', 'control?', 'well', 'pretty', 'darn', 'cool', 'we', 'think', 'imagine', 'the', 'possibilities', '-', \"you'll\", 'never', 'lose', 'your', 'remote', 'again;', 'you', 'can', 'go', 'to', 'your', 'neighborhood', 'sports', 'bar', 'and', 'take', 'control', 'of', 'those', 'big', 'screen', 'tvs;', 'when', 'visiting', 'a', 'friends', 'house', 'you', 'can', 'watch', 'what', 'you', 'want', 'to', 'watch', 'put', 'the', 'power', 'that', 'comes', 'with', 'having', 'the', 'remote', 'right', 'on', 'your', 'wrist', '!', 'the', 'midas', 'features', 'comtemporary', 'styling', 'and', 'a', 'sleek', 'design', 'the', 'watch', 'is', 'not', 'large', 'or', 'clunky', 'the', 'remote', 'control', 'buttons', 'are', 'very', 'well', 'integrated', 'into', 'the', 'overall', 'watch', 'design', 'and', 'are', 'very', 'easy', 'to', 'push', 'the', 'remote', 'can', 'be', 'programmed', 'using', 'a', '4', 'or', '5', 'digits', 'code', 'in', 'approximately', '30', 'seconds', 'the', 'pre-programmed', 'database', 'of', 'codes', 'covers', 'every', 'make/model', 'of', 'tv', 'and', 'cable', 'receiver', 'imaginable', 'some', 'other', 'features', 'of', 'this', 'watch:', 'very', 'large', 'database', 'of', 'pre-programmed', 'infrared', 'codes', 'sleek', 'design', 'set-up', 'takes', 'about', '30', 'seconds', 'controls', 'for', 'volume', '+/-', 'channel', '+/-', 'mute', 'and', 'power', 'range', 'of', '15', 'ft', 'and', '20', 'degree', 'angle', 'seiko', 'watch', 'movement', 'stainless', 'steel', 'casing', 'and', 'grey', 'polyurethane', 'band', 'batteries', 'are', 'included', 'one-year', 'warranty', 'comes', 'with', 'user', 'manual', 'that', 'includes', 'codes']\n",
      "{'time': 1, 'to': 4, 'take': 2, 'control': 3, 'okay': 1, 'just': 1, 'how': 1, 'cool': 2, 'is': 2, 'a': 5, 'watch': 6, 'with': 3, 'built-in': 1, 'universal': 1, 'remote': 5, 'control?': 1, 'well': 2, 'pretty': 1, 'darn': 1, 'we': 1, 'think': 1, 'imagine': 1, 'the': 9, 'possibilities': 1, '-': 1, \"you'll\": 1, 'never': 1, 'lose': 1, 'your': 3, 'again;': 1, 'you': 3, 'can': 3, 'go': 1, 'neighborhood': 1, 'sports': 1, 'bar': 1, 'and': 7, 'of': 6, 'those': 1, 'big': 1, 'screen': 1, 'tvs;': 1, 'when': 1, 'visiting': 1, 'friends': 1, 'house': 1, 'what': 1, 'want': 1, 'put': 1, 'power': 2, 'that': 2, 'comes': 2, 'having': 1, 'right': 1, 'on': 1, 'wrist': 1, '!': 1, 'midas': 1, 'features': 2, 'comtemporary': 1, 'styling': 1, 'sleek': 2, 'design': 3, 'not': 1, 'large': 2, 'or': 2, 'clunky': 1, 'buttons': 1, 'are': 3, 'very': 3, 'integrated': 1, 'into': 1, 'overall': 1, 'easy': 1, 'push': 1, 'be': 1, 'programmed': 1, 'using': 1, '4': 1, '5': 1, 'digits': 1, 'code': 1, 'in': 1, 'approximately': 1, '30': 2, 'seconds': 2, 'pre-programmed': 2, 'database': 2, 'codes': 3, 'covers': 1, 'every': 1, 'make/model': 1, 'tv': 1, 'cable': 1, 'receiver': 1, 'imaginable': 1, 'some': 1, 'other': 1, 'this': 1, 'watch:': 1, 'infrared': 1, 'set-up': 1, 'takes': 1, 'about': 1, 'controls': 1, 'for': 1, 'volume': 1, '+/-': 2, 'channel': 1, 'mute': 1, 'range': 1, '15': 1, 'ft': 1, '20': 1, 'degree': 1, 'angle': 1, 'seiko': 1, 'movement': 1, 'stainless': 1, 'steel': 1, 'casing': 1, 'grey': 1, 'polyurethane': 1, 'band': 1, 'batteries': 1, 'included': 1, 'one-year': 1, 'warranty': 1, 'user': 1, 'manual': 1, 'includes': 1}\n"
     ]
    }
   ],
   "source": [
    "vocab = {}\n",
    "filenames = os.listdir(r'/data/liufengyuan/NLPinFinance/Filtered Data Feature')\n",
    "for iter in range(20):\n",
    "\n",
    "    # 拿到文件名和种类\n",
    "    #category = re.findall('meta_(.*?).json.gz',filenames[iter])[0]\n",
    "    #filename = category + '.pkl'\n",
    "    filepath = os.path.join(r'/data/liufengyuan/NLPinFinance/Filtered Data Feature','AMAZON_FASHION.pkl')\n",
    "\n",
    "    # 读取相应保存字典\n",
    "    f_read = open(filepath, 'rb')\n",
    "    All_data = pickle.load(f_read)\n",
    "    f_read.close()\n",
    "\n",
    "    # 拿到网址列表\n",
    "    if len(All_data) > 0:\n",
    "        for j in range(len(All_data)):\n",
    "            feature_list = All_data[35]['description']\n",
    "            title_list = All_data[j]['title']\n",
    "\n",
    "            for i in range(len(feature_list)):\n",
    "                feature = feature_list[i]\n",
    "                print(feature)\n",
    "                fea_tok = tokenize(feature)\n",
    "                print(fea_tok)\n",
    "                for idx,word in enumerate(fea_tok):\n",
    "                    if word in vocab.keys():\n",
    "                        vocab[word] += 1\n",
    "                    else:\n",
    "                        vocab[word] = 1\n",
    "                #break\n",
    "            break\n",
    "    break\n",
    "print(vocab)"
   ]
  }
 ],
 "metadata": {
  "kernelspec": {
   "display_name": "base",
   "language": "python",
   "name": "python3"
  },
  "language_info": {
   "codemirror_mode": {
    "name": "ipython",
    "version": 3
   },
   "file_extension": ".py",
   "mimetype": "text/x-python",
   "name": "python",
   "nbconvert_exporter": "python",
   "pygments_lexer": "ipython3",
   "version": "3.9.12 (main, Apr  5 2022, 06:56:58) \n[GCC 7.5.0]"
  },
  "orig_nbformat": 4,
  "vscode": {
   "interpreter": {
    "hash": "0c4e795b307436e90878d87b7b6ea0f9ae1f8d88c9c1ffc8ae37ae0851c943d6"
   }
  }
 },
 "nbformat": 4,
 "nbformat_minor": 2
}
