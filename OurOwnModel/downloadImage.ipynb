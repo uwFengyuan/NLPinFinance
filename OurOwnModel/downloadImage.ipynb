{
 "cells": [
  {
   "cell_type": "code",
   "execution_count": 1,
   "metadata": {},
   "outputs": [],
   "source": [
    "import os\n",
    "from urllib.request import urlopen\n",
    "import re\n",
    "import pickle\n",
    "import requests\n",
    "from joblib import Parallel, delayed\n",
    "import time\n",
    "import gzip\n",
    "import json\n",
    "import multiprocessing as mp"
   ]
  },
  {
   "cell_type": "code",
   "execution_count": 5,
   "metadata": {},
   "outputs": [],
   "source": [
    "def loading_image(url, number_code):\n",
    "\n",
    "    # 爬取图片\n",
    "    headers={\n",
    "        'User-Agent':'Mozilla/5.0 (Windows NT 10.0; Win64; x64) AppleWebKit/537.36 (KHTML, like Gecko) Chrome/106.0.0.0 Safari/537.36 Edg/106.0.1370.42'\n",
    "    }\n",
    "        \n",
    "    img_name = number_code + '.jpg'\n",
    "    img_data = requests.get(url=url,headers=headers).content\n",
    "    img_path = os.path.join(r'/home/liufengyuan/NLPinFinance/Image',img_name)\n",
    "    \n",
    "    with open (img_path,'wb') as fp:\n",
    "        fp.write(img_data)"
   ]
  },
  {
   "cell_type": "code",
   "execution_count": 6,
   "metadata": {},
   "outputs": [],
   "source": [
    "# 创建图片文件夹路径\n",
    "if not os.path.exists(r'/home/liufengyuan/NLPinFinance/Image'):\n",
    "    os.mkdir(r'/home/liufengyuan/NLPinFinance/Image')\n",
    "\n",
    "filenames = os.listdir(r'/data/liufengyuan/NLPinFinance/Unziped_Filtered_Data')"
   ]
  },
  {
   "cell_type": "code",
   "execution_count": 7,
   "metadata": {},
   "outputs": [
    {
     "data": {
      "text/plain": [
       "['Cell_Phones_and_Accessories.pkl',\n",
       " 'Office_Products.pkl',\n",
       " 'Movies_and_TV.pkl',\n",
       " 'Patio_Lawn_and_Garden.pkl',\n",
       " 'Clothing_Shoes_and_Jewelry.pkl',\n",
       " 'Electronics.pkl',\n",
       " 'Industrial_and_Scientific.pkl',\n",
       " 'Kindle_Store.pkl',\n",
       " 'Digital_Music.pkl',\n",
       " 'Home_and_Kitchen.pkl',\n",
       " 'Sports_and_Outdoors.pkl',\n",
       " 'CDs_and_Vinyl.pkl',\n",
       " 'Books.pkl',\n",
       " 'Arts_Crafts_and_Sewing.pkl',\n",
       " 'Toys_and_Games.pkl',\n",
       " 'Grocery_and_Gourmet_Food.pkl',\n",
       " 'AMAZON_FASHION.pkl',\n",
       " 'Pet_Supplies.pkl',\n",
       " 'Automotive.pkl',\n",
       " 'Tools_and_Home_Improvement.pkl']"
      ]
     },
     "execution_count": 7,
     "metadata": {},
     "output_type": "execute_result"
    }
   ],
   "source": [
    "filenames"
   ]
  },
  {
   "cell_type": "code",
   "execution_count": 9,
   "metadata": {},
   "outputs": [
    {
     "name": "stdout",
     "output_type": "stream",
     "text": [
      "Number <built-in function iter>: Loading 966 images from Books.pkl dataset.\n",
      "耗时:4.843511581420898\n"
     ]
    }
   ],
   "source": [
    "#for filename in filenames:\n",
    "\n",
    "    # 拿到文件名和种类\n",
    "    #filename = re.findall('meta_(.*?).json.gz',filenames[iter])[0] + '.pkl'\n",
    "filename = 'Books.pkl'\n",
    "filepath = os.path.join(r'/data/liufengyuan/NLPinFinance/Filtered Data',filename)\n",
    "\n",
    "# 读取相应保存字典\n",
    "f_read = open(filepath, 'rb')\n",
    "All_data = pickle.load(f_read)\n",
    "f_read.close()\n",
    "\n",
    "print(f\"Number {iter}: Loading {len(All_data)} images from {filename} dataset.\")\n",
    "# 拿到网址列表\n",
    "if len(All_data) > 0:\n",
    "    start = time.time()\n",
    "\n",
    "    #parallel_obj = Parallel(n_jobs=48)(delayed(loading_image)(j, All_data) for j in range(len(All_data)))\n",
    "    pool = mp.Pool(48)\n",
    "    for j in range(len(All_data)):\n",
    "        url = All_data[j]['imageURLHighRes'][0]\n",
    "        number_code = All_data[j]['asin']\n",
    "        process = pool.apply_async(loading_image, args = (url, number_code))\n",
    "    pool.close()\n",
    "    pool.join()\n",
    "\n",
    "    print(f'耗时:{time.time() - start}')"
   ]
  }
 ],
 "metadata": {
  "kernelspec": {
   "display_name": "base",
   "language": "python",
   "name": "python3"
  },
  "language_info": {
   "codemirror_mode": {
    "name": "ipython",
    "version": 3
   },
   "file_extension": ".py",
   "mimetype": "text/x-python",
   "name": "python",
   "nbconvert_exporter": "python",
   "pygments_lexer": "ipython3",
   "version": "3.9.12 (main, Apr  5 2022, 06:56:58) \n[GCC 7.5.0]"
  },
  "orig_nbformat": 4,
  "vscode": {
   "interpreter": {
    "hash": "0c4e795b307436e90878d87b7b6ea0f9ae1f8d88c9c1ffc8ae37ae0851c943d6"
   }
  }
 },
 "nbformat": 4,
 "nbformat_minor": 2
}
