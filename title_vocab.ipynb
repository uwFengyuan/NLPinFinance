{
 "cells": [
  {
   "cell_type": "code",
   "execution_count": null,
   "metadata": {},
   "outputs": [],
   "source": [
    "class Word2Seq:\n",
    "    # 未知符号\n",
    "    UNK_TAG = \"UNK\"\n",
    "    # 填充符号\n",
    "    PAD_TAG = \"PAD\"\n",
    "    UNK = 0\n",
    "    PAD = 1\n",
    "\n",
    "    def __init__(self):\n",
    "        self.dict = {\n",
    "            self.UNK_TAG: self.UNK,\n",
    "            self.PAD_TAG: self.PAD\n",
    "        }\n",
    "        # 统计词频\n",
    "        self.count = {}\n",
    "        # 反转字典\n",
    "        self.inverse_dict = {}\n",
    "\n",
    "    # 把单个句子保存到dict中\n",
    "    def fit(self, sentence):\n",
    "        for word in sentence:\n",
    "            self.count[word] = self.count.get(word, 0) + 1\n",
    "\n",
    "    # 生成字典\n",
    "    def build_vocab(self, min=5, max=None, max_feature=None):\n",
    "        # min:最小出现的次数，小于则删除\n",
    "        # max:最大出现的次数，多于则删除\n",
    "        # max_feature:一共保留多少个词语\n",
    "        if min is not None:\n",
    "            self.count = {word: value for word, value in self.count.items() if value > min}\n",
    "        if max is not None:\n",
    "            self.count = {word: value for word, value in self.count.items() if value < max}\n",
    "        if max_feature is not None:\n",
    "            # x[-1]代表value，reverse代表从大到小,sorted之后转为列表\n",
    "            temp = sorted(self.count.items(), key=lambda x: x[-1], reverse=True)[:max_feature]\n",
    "            self.count = dict(temp)\n",
    "        for word in self.count:\n",
    "            self.dict[word] = len(self.dict)\n",
    "        # 反转字典：\n",
    "        self.inverse_dict = dict(zip(self.dict.values(), self.dict.keys()))\n",
    "\n",
    "    # 把句子转换为序列：\n",
    "    def transform(self, sentence, max_len=None):\n",
    "        # max_len:代表对句子进行填充或裁剪，将句子固定长度\n",
    "        if max_len is not None:\n",
    "            # 填充：\n",
    "            if max_len > len(sentence):\n",
    "                sentence = sentence + [self.PAD_TAG] * (max_len - len(sentence))\n",
    "            # 裁剪：\n",
    "            if max_len < len(sentence):\n",
    "                sentence = sentence[:max_len]\n",
    "        return [self.dict.get(word, self.UNK) for word in sentence]\n",
    "\n",
    "    # 把序列转换为句子：\n",
    "    def inverse_transform(self, indices):\n",
    "        return [self.inverse_dict.get(idx) for idx in indices]\n",
    "\n",
    "    # 长度：\n",
    "    def __len__(self):\n",
    "        return len(self.dict)\n"
   ]
  }
 ],
 "metadata": {
  "kernelspec": {
   "display_name": "base",
   "language": "python",
   "name": "python3"
  },
  "language_info": {
   "name": "python",
   "version": "3.9.12 (main, Apr  5 2022, 06:56:58) \n[GCC 7.5.0]"
  },
  "orig_nbformat": 4,
  "vscode": {
   "interpreter": {
    "hash": "0c4e795b307436e90878d87b7b6ea0f9ae1f8d88c9c1ffc8ae37ae0851c943d6"
   }
  }
 },
 "nbformat": 4,
 "nbformat_minor": 2
}
